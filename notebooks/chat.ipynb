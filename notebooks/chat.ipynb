{
 "cells": [
  {
   "cell_type": "code",
   "execution_count": 1,
   "metadata": {},
   "outputs": [
    {
     "name": "stdout",
     "output_type": "stream",
     "text": [
      "Project root: /Users/machinelearningzuu/Library/Mobile Documents/com~apple~CloudDocs/Work/VERACITY/VECTOR/POCs/vivachefs\n"
     ]
    }
   ],
   "source": [
    "import sys, uuid\n",
    "import nest_asyncio\n",
    "from pathlib import Path\n",
    "from IPython.display import display, Markdown\n",
    "nest_asyncio.apply()\n",
    "\n",
    "project_root = str(Path.cwd().parent)\n",
    "if project_root not in sys.path:\n",
    "    sys.path.append(project_root)\n",
    "\n",
    "print(f\"Project root: {project_root}\")"
   ]
  },
  {
   "cell_type": "code",
   "execution_count": 2,
   "metadata": {},
   "outputs": [
    {
     "name": "stdout",
     "output_type": "stream",
     "text": [
      "Project root: /Users/machinelearningzuu/Library/Mobile Documents/com~apple~CloudDocs/Work/VERACITY/VECTOR/POCs/vivachefs\n"
     ]
    }
   ],
   "source": [
    "from src.parser import DocumentParser\n",
    "from src.rag import RAGChat"
   ]
  },
  {
   "cell_type": "code",
   "execution_count": 3,
   "metadata": {},
   "outputs": [],
   "source": [
    "parse = DocumentParser()\n",
    "parse.parse_documents(\"markdown_results\")\n",
    "docs = parse.load_documents()\n",
    "# display(Markdown(docs))"
   ]
  },
  {
   "cell_type": "code",
   "execution_count": 4,
   "metadata": {},
   "outputs": [],
   "source": [
    "rag_chat = RAGChat(f\"{project_root}/processed\")"
   ]
  },
  {
   "cell_type": "code",
   "execution_count": 5,
   "metadata": {},
   "outputs": [
    {
     "name": "stdout",
     "output_type": "stream",
     "text": [
      "The refund policy states that for customer-initiated cancellations, a full refund is provided if at least 48 hours' notice is given, minus the transaction fee. If the cancellation is initiated by the chef, a full refund is issued. Refunds are not offered for meals that do not meet personal taste expectations, as taste is subjective. However, if you have a disappointing meal experience, you can contact Viva Chefs for potential resolution, which may include a partial or full refund on a case-by-case basis.\n"
     ]
    }
   ],
   "source": [
    "response = rag_chat.chat(\"What is the refund policy?\")\n",
    "print(response)"
   ]
  },
  {
   "cell_type": "code",
   "execution_count": null,
   "metadata": {},
   "outputs": [],
   "source": []
  }
 ],
 "metadata": {
  "kernelspec": {
   "display_name": "kms",
   "language": "python",
   "name": "python3"
  },
  "language_info": {
   "codemirror_mode": {
    "name": "ipython",
    "version": 3
   },
   "file_extension": ".py",
   "mimetype": "text/x-python",
   "name": "python",
   "nbconvert_exporter": "python",
   "pygments_lexer": "ipython3",
   "version": "3.10.16"
  }
 },
 "nbformat": 4,
 "nbformat_minor": 2
}
